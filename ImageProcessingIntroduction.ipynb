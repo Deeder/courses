{
 "metadata": {
  "name": "ImageProcessingIntroduction"
 }, 
 "nbformat": 2, 
 "worksheets": [
  {
   "cells": [
    {
     "cell_type": "markdown", 
     "source": [
      "#Introduction au traitement d'images avec python", 
      "", 
      "##A propos", 
      "Tout le monde manipule des images au quotidien. Et pour cause : depuis plusieurs ann\u00e9es nous avons tous un appareil photo \u00e0 disposition \u00e0 tout moment dans notre poche: le smartphone.", 
      "Que ce soit les derni\u00e8res photos de vacances envoy\u00e9es par email \u00e0 toute la famille, le selfie fait du haut de la tour Eiffel ou encore le fond d'\u00e9cran de notre ordinateur : les images sont partout. Pourtant, on ne sait pas vraiment comment elles sont faites.", 
      "Le but de ce cours est de vous familiariser avec le concept d'image et d'apprendre \u00e0 effectuer des manipulations simples \u00e0 l'aide de python.", 
      "", 
      "##Un peu de formalisme", 
      "Soit $I$ une image, c'est \u00e0 dire un signal \u00e0 deux dimensions. $I(y,x)$ est le pixel situ\u00e9 \u00e0 l'intersection de la ligne $y$ et de la colonne $x$.", 
      "Mais au fait, qu'est-ce qu'un pixel ? Un pixel est un peu la particule \u00e9l\u00e9mentaire de l'image : c'est un petit carr\u00e9 lumineux qui peut afficher une certaine quantit\u00e9 de vert, de bleu et de rouge. A partir de ces trois couleurs, on est capable de reconstruire un certain nombre de couleurs.", 
      "", 
      "Ainsi, pour chaque pixel, on d\u00e9finit un triplet de valeurs $$\\begin{bmatrix}", 
      "      R\\\\", 
      "      G\\\\", 
      "      B\\\\", 
      "    \\end{bmatrix}$$", 
      ""
     ]
    }, 
    {
     "cell_type": "code", 
     "collapsed": true, 
     "input": [], 
     "language": "python", 
     "outputs": [], 
     "prompt_number": "&nbsp;"
    }
   ]
  }
 ]
}